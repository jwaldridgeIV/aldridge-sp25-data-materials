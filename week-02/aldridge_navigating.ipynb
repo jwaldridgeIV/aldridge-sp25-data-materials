{
 "cells": [
  {
   "cell_type": "markdown",
   "id": "d2f7997d-fbd0-442b-a895-b2029cda283b",
   "metadata": {},
   "source": [
    "Make new variables for the historical figure Lucy Parsons for her first name, last name, birth year, and the state in which she was born - use her Wikipedia page."
   ]
  },
  {
   "cell_type": "code",
   "execution_count": null,
   "id": "9554d20e-5b65-4e36-87b3-bef03844fa62",
   "metadata": {},
   "outputs": [],
   "source": [
    "# Making variables with the specified topics"
   ]
  },
  {
   "cell_type": "code",
   "execution_count": 35,
   "id": "5c5bcc74-8f95-455e-bc74-88b5b8d7f8c8",
   "metadata": {},
   "outputs": [],
   "source": [
    "first_name = \"Lucy\"\n",
    "last_name = \"Parsons\"\n",
    "birth_year = 1851\n",
    "state_of_birth = \"Virginia\""
   ]
  },
  {
   "cell_type": "markdown",
   "id": "e864eabe-4fc2-42ec-9126-4bd6264d7806",
   "metadata": {},
   "source": [
    "Make a new variable full_name. Assign it a single string value based on the variables you created above. Then add a print statement that writes out a full sentence using full_name."
   ]
  },
  {
   "cell_type": "code",
   "execution_count": 38,
   "id": "fc189548-1847-408e-85a8-8327b1e224d7",
   "metadata": {},
   "outputs": [],
   "source": [
    "# Creating variable full_name and checking my work with print function"
   ]
  },
  {
   "cell_type": "code",
   "execution_count": 40,
   "id": "18d9f649-7bfb-4a68-a8d0-1f71d845649b",
   "metadata": {},
   "outputs": [],
   "source": [
    "full_name = first_name+\" \"+last_name"
   ]
  },
  {
   "cell_type": "code",
   "execution_count": 42,
   "id": "1da5e3a3-2f4c-423e-9c7a-3b92ca87d400",
   "metadata": {},
   "outputs": [
    {
     "name": "stdout",
     "output_type": "stream",
     "text": [
      "Lucy Parsons\n"
     ]
    }
   ],
   "source": [
    "print(full_name)"
   ]
  },
  {
   "cell_type": "markdown",
   "id": "d08bd669-cfe3-486d-9459-b9aa6aca2c6f",
   "metadata": {},
   "source": [
    "How old was Lucy Parsons during the Haymarket affair? Calculate her age using the variables you created above, and assign it to a new variable haymarket_age. End with a full-sentence print statement answering the question that uses haymarket_age and an f-string."
   ]
  },
  {
   "cell_type": "code",
   "execution_count": null,
   "id": "ed2c8e68-b2f8-4006-8f80-6c357ef7beea",
   "metadata": {},
   "outputs": [],
   "source": [
    "# Making two new variables and trying the f-string to print a string of text"
   ]
  },
  {
   "cell_type": "code",
   "execution_count": 46,
   "id": "a3851bb4-3073-4918-a792-b116ccad19b1",
   "metadata": {},
   "outputs": [
    {
     "name": "stdout",
     "output_type": "stream",
     "text": [
      "Lucy Parsons was 35 during the events of the Haymarket affair.\n"
     ]
    }
   ],
   "source": [
    "haymarket_date = 1886\n",
    "haymarket_age = haymarket_date - birth_year\n",
    "\n",
    "print(f\"{full_name} was {haymarket_age} during the events of the Haymarket affair.\")\n"
   ]
  },
  {
   "cell_type": "markdown",
   "id": "554f23f0-c1a8-446f-9f1f-19cfa86ec863",
   "metadata": {},
   "source": [
    "Lucy Parsons’s contemporary and rival, Emma Goldman, also has a Wikipedia page. Create variables and assign each one the number of footnotes for each of their Wikipedia pages (you can do this manually). Create another variable calculating the difference between them. Then write a print statement that compares these two numbers in some way."
   ]
  },
  {
   "cell_type": "code",
   "execution_count": null,
   "id": "b4a62d5f-8325-4435-a672-cfe730112ecd",
   "metadata": {},
   "outputs": [],
   "source": [
    "# Creating more variables, for the new addition to the story, as well as differences\n",
    "# between them"
   ]
  },
  {
   "cell_type": "code",
   "execution_count": 48,
   "id": "9e31c0a2-7851-44b9-b9f7-a9cdeac941b1",
   "metadata": {},
   "outputs": [
    {
     "name": "stdout",
     "output_type": "stream",
     "text": [
      "Two leading figures in anarchist political thought in the 19th and 20th centuries were Lucy Parsons and Emma Goldman.\n",
      "Emma Goldman seemingly was more influential, as her wikipedia page has 180 more references than her contemporary, Lucy Parsons\n"
     ]
    }
   ],
   "source": [
    "rival_name = \"Emma Goldman\"\n",
    "lucy_footnotes = 36\n",
    "emma_footnotes = 216\n",
    "\n",
    "difference_in_footnotes = emma_footnotes - lucy_footnotes\n",
    "\n",
    "print(f\"Two leading figures in anarchist political thought in the 19th and 20th centuries were {full_name} and {rival_name}.\")\n",
    "print(f\"{rival_name} seemingly was more influential, as her wikipedia page has {difference_in_footnotes} more references than her contemporary, {full_name}\")"
   ]
  },
  {
   "cell_type": "code",
   "execution_count": null,
   "id": "95eb0d62-0544-4e35-af3b-2f67a2f911aa",
   "metadata": {},
   "outputs": [],
   "source": []
  }
 ],
 "metadata": {
  "kernelspec": {
   "display_name": "Python [conda env:base] *",
   "language": "python",
   "name": "conda-base-py"
  },
  "language_info": {
   "codemirror_mode": {
    "name": "ipython",
    "version": 3
   },
   "file_extension": ".py",
   "mimetype": "text/x-python",
   "name": "python",
   "nbconvert_exporter": "python",
   "pygments_lexer": "ipython3",
   "version": "3.12.7"
  }
 },
 "nbformat": 4,
 "nbformat_minor": 5
}
