{
 "cells": [
  {
   "cell_type": "markdown",
   "id": "65375bbb-50aa-47c8-83be-8abfb78dedd6",
   "metadata": {},
   "source": [
    "sample census data"
   ]
  },
  {
   "cell_type": "code",
   "execution_count": 4,
   "id": "206febb9-d566-47ad-a270-59110d8317e2",
   "metadata": {},
   "outputs": [],
   "source": [
    "ages = [45, 23, 16, 34, 64, 28, 42, 31, 27, 38, 17, 52, 29, 44, 33, 15, 61, 36, 18, 41]\n",
    "\n",
    "occupations = ['farmer', 'servant', 'laborer', 'merchant', 'farmer', 'servant', 'teacher', 'farmer', 'laborer', 'merchant', 'servant', 'farmer', 'laborer', 'blacksmith', 'carpenter', 'servant', 'farmer', 'weaver', 'servant', 'carpenter']\n",
    "\n",
    "birth_places = ['Ireland', 'Ireland', 'New York', 'England', 'Ireland', 'Germany', 'New York', 'Ireland', 'Ireland', 'Scotland', 'Ireland', 'England', 'Ireland', 'Wales', 'Ireland', 'Ireland', 'Scotland', 'Ireland', 'Germany', 'Ireland']\n",
    "\n"
   ]
  },
  {
   "cell_type": "code",
   "execution_count": 6,
   "id": "c192d305-e4ac-49a3-b2ea-3bec11b7d299",
   "metadata": {},
   "outputs": [
    {
     "data": {
      "text/plain": [
       "20"
      ]
     },
     "execution_count": 6,
     "metadata": {},
     "output_type": "execute_result"
    }
   ],
   "source": [
    "len(ages)"
   ]
  },
  {
   "cell_type": "code",
   "execution_count": 8,
   "id": "585f87be-b8c7-4969-a8e9-6806ca09b3cc",
   "metadata": {},
   "outputs": [
    {
     "data": {
      "text/plain": [
       "20"
      ]
     },
     "execution_count": 8,
     "metadata": {},
     "output_type": "execute_result"
    }
   ],
   "source": [
    "len(occupations)"
   ]
  },
  {
   "cell_type": "code",
   "execution_count": 10,
   "id": "65bd1cd5-31b9-440b-a2ae-95067929864a",
   "metadata": {},
   "outputs": [
    {
     "data": {
      "text/plain": [
       "20"
      ]
     },
     "execution_count": 10,
     "metadata": {},
     "output_type": "execute_result"
    }
   ],
   "source": [
    "len(birth_places)"
   ]
  },
  {
   "cell_type": "code",
   "execution_count": 12,
   "id": "e3ba2274-dfcf-4a90-ba76-e78ffd017067",
   "metadata": {},
   "outputs": [
    {
     "data": {
      "text/plain": [
       "['farmer', 'servant', 'laborer', 'merchant', 'farmer']"
      ]
     },
     "execution_count": 12,
     "metadata": {},
     "output_type": "execute_result"
    }
   ],
   "source": [
    "occupations[0:5]"
   ]
  },
  {
   "cell_type": "code",
   "execution_count": 14,
   "id": "faa3b7f2-0d26-4528-8701-6b97e6dbf487",
   "metadata": {},
   "outputs": [
    {
     "data": {
      "text/plain": [
       "Counter({'farmer': 5,\n",
       "         'servant': 5,\n",
       "         'laborer': 3,\n",
       "         'merchant': 2,\n",
       "         'carpenter': 2,\n",
       "         'teacher': 1,\n",
       "         'blacksmith': 1,\n",
       "         'weaver': 1})"
      ]
     },
     "execution_count": 14,
     "metadata": {},
     "output_type": "execute_result"
    }
   ],
   "source": [
    "from collections import Counter\n",
    "Counter(occupations)\n"
   ]
  },
  {
   "cell_type": "code",
   "execution_count": 16,
   "id": "941d3e83-d4ec-4c19-b2b6-52d1bde50bda",
   "metadata": {},
   "outputs": [
    {
     "data": {
      "text/plain": [
       "Counter({'Ireland': 11,\n",
       "         'New York': 2,\n",
       "         'England': 2,\n",
       "         'Germany': 2,\n",
       "         'Scotland': 2,\n",
       "         'Wales': 1})"
      ]
     },
     "execution_count": 16,
     "metadata": {},
     "output_type": "execute_result"
    }
   ],
   "source": [
    "Counter(birth_places)\n"
   ]
  },
  {
   "cell_type": "code",
   "execution_count": 18,
   "id": "9b4b9d07-6c55-4912-9348-a5bb321fcf26",
   "metadata": {
    "scrolled": true
   },
   "outputs": [
    {
     "name": "stdout",
     "output_type": "stream",
     "text": [
      "person #0: 45\n",
      "person #1: 23\n",
      "person #2: 16\n",
      "person #3: 34\n",
      "person #4: 64\n",
      "person #5: 28\n",
      "person #6: 42\n",
      "person #7: 31\n",
      "person #8: 27\n",
      "person #9: 38\n",
      "person #10: 17\n",
      "person #11: 52\n",
      "person #12: 29\n",
      "person #13: 44\n",
      "person #14: 33\n",
      "person #15: 15\n",
      "person #16: 61\n",
      "person #17: 36\n",
      "person #18: 18\n",
      "person #19: 41\n"
     ]
    }
   ],
   "source": [
    "for number, x in enumerate(ages):\n",
    "    print(f\"person #{number}: {x}\")"
   ]
  },
  {
   "cell_type": "markdown",
   "id": "c9e28e1f-a205-4ad6-9e65-7496cea677e0",
   "metadata": {},
   "source": [
    "creating new lists\n"
   ]
  },
  {
   "cell_type": "code",
   "execution_count": 21,
   "id": "c1fe6792-0d55-496d-9cca-7edde5b48e8d",
   "metadata": {},
   "outputs": [
    {
     "name": "stdout",
     "output_type": "stream",
     "text": [
      "Number of skilled laborers: 4\n"
     ]
    }
   ],
   "source": [
    "skilled_laborers = []\n",
    "for occupation in occupations:\n",
    "    if occupation == 'blacksmith' or occupation == 'carpenter' or occupation == 'weaver':\n",
    "        skilled_laborers.append(occupation)\n",
    "print(f\"Number of skilled laborers: {len(skilled_laborers)}\")\n"
   ]
  },
  {
   "cell_type": "code",
   "execution_count": 23,
   "id": "4f31032e-7b2d-45b0-810b-75f238d473ff",
   "metadata": {},
   "outputs": [
    {
     "name": "stdout",
     "output_type": "stream",
     "text": [
      "Number of people of UK origin: 14\n"
     ]
    }
   ],
   "source": [
    "uk_origin = []\n",
    "for origin in birth_places:\n",
    "    if origin == 'England' or origin == 'Ireland' or origin == 'Wales':\n",
    "        uk_origin.append(origin)\n",
    "print(f\"Number of people of UK origin: {len(uk_origin)}\")"
   ]
  },
  {
   "cell_type": "code",
   "execution_count": 25,
   "id": "5913f1b8-0fb5-438d-8412-a9c7f8e81804",
   "metadata": {},
   "outputs": [
    {
     "name": "stdout",
     "output_type": "stream",
     "text": [
      "Number of people who are under thirty: 12\n"
     ]
    }
   ],
   "source": [
    "under_30 = []\n",
    "for age in ages:\n",
    "    if age > 30:\n",
    "        under_30.append(age)\n",
    "print(f\"Number of people who are under thirty: {len(under_30)}\")"
   ]
  },
  {
   "cell_type": "code",
   "execution_count": 27,
   "id": "b968170a-786b-4f2a-8eb2-74606b099b45",
   "metadata": {},
   "outputs": [
    {
     "data": {
      "text/plain": [
       "Counter({'unskilled laborer': 13, 'skilled laborer': 4, 'other': 3})"
      ]
     },
     "execution_count": 27,
     "metadata": {},
     "output_type": "execute_result"
    }
   ],
   "source": [
    "skilled_unskilled = []\n",
    "for occupation in occupations:\n",
    "    if occupation == 'blacksmith' or occupation == 'carpenter' or occupation == 'weaver':\n",
    "        skilled_unskilled.append(\"skilled laborer\")\n",
    "    elif occupation == 'laborer' or occupation == 'servant' or occupation == 'farmer':\n",
    "        skilled_unskilled.append(\"unskilled laborer\")\n",
    "    else:\n",
    "        skilled_unskilled.append(\"other\")\n",
    "Counter(skilled_unskilled)\n"
   ]
  },
  {
   "cell_type": "code",
   "execution_count": 29,
   "id": "b183916f-eefb-42b6-afee-004bdc2b4faf",
   "metadata": {},
   "outputs": [
    {
     "data": {
      "text/plain": [
       "Counter({'adult': 14, 'youth': 3, 'elderly': 3})"
      ]
     },
     "execution_count": 29,
     "metadata": {},
     "output_type": "execute_result"
    }
   ],
   "source": [
    "age_group = []\n",
    "for age in ages:\n",
    "    if age < 18:\n",
    "        age_group.append('youth')\n",
    "    elif age > 50:\n",
    "        age_group.append('elderly')\n",
    "    else:\n",
    "        age_group.append('adult')\n",
    "Counter(age_group)"
   ]
  },
  {
   "cell_type": "code",
   "execution_count": 31,
   "id": "6ad4ff38-f4e4-4ed2-bb66-fd5c2b18a7f3",
   "metadata": {
    "scrolled": true
   },
   "outputs": [
    {
     "data": {
      "text/plain": [
       "['adult',\n",
       " 'adult',\n",
       " 'youth',\n",
       " 'adult',\n",
       " 'elderly',\n",
       " 'adult',\n",
       " 'adult',\n",
       " 'adult',\n",
       " 'adult',\n",
       " 'adult',\n",
       " 'youth',\n",
       " 'elderly',\n",
       " 'adult',\n",
       " 'adult',\n",
       " 'adult',\n",
       " 'youth',\n",
       " 'elderly',\n",
       " 'adult',\n",
       " 'adult',\n",
       " 'adult']"
      ]
     },
     "execution_count": 31,
     "metadata": {},
     "output_type": "execute_result"
    }
   ],
   "source": [
    "age_group\n"
   ]
  },
  {
   "cell_type": "code",
   "execution_count": 33,
   "id": "c7b3e086-92d0-4e59-899e-598cac942238",
   "metadata": {
    "scrolled": true
   },
   "outputs": [
    {
     "name": "stdout",
     "output_type": "stream",
     "text": [
      "Age 45, worked as farmer, born in Ireland\n",
      "Age 23, worked as servant, born in Ireland\n",
      "Age 16, worked as laborer, born in New York\n",
      "Age 34, worked as merchant, born in England\n",
      "Age 64, worked as farmer, born in Ireland\n",
      "Age 28, worked as servant, born in Germany\n",
      "Age 42, worked as teacher, born in New York\n",
      "Age 31, worked as farmer, born in Ireland\n",
      "Age 27, worked as laborer, born in Ireland\n",
      "Age 38, worked as merchant, born in Scotland\n",
      "Age 17, worked as servant, born in Ireland\n",
      "Age 52, worked as farmer, born in England\n",
      "Age 29, worked as laborer, born in Ireland\n",
      "Age 44, worked as blacksmith, born in Wales\n",
      "Age 33, worked as carpenter, born in Ireland\n",
      "Age 15, worked as servant, born in Ireland\n",
      "Age 61, worked as farmer, born in Scotland\n",
      "Age 36, worked as weaver, born in Ireland\n",
      "Age 18, worked as servant, born in Germany\n",
      "Age 41, worked as carpenter, born in Ireland\n"
     ]
    }
   ],
   "source": [
    "for age, occupation, origin in zip(ages, occupations, birth_places):\n",
    "    print(f\"Age {age}, worked as {occupation}, born in {origin}\")\n"
   ]
  },
  {
   "cell_type": "code",
   "execution_count": 48,
   "id": "a86cf014-1b20-4849-bc46-70b928a2607d",
   "metadata": {},
   "outputs": [
    {
     "ename": "SyntaxError",
     "evalue": "invalid syntax (1623796207.py, line 4)",
     "output_type": "error",
     "traceback": [
      "\u001b[0;36m  Cell \u001b[0;32mIn[48], line 4\u001b[0;36m\u001b[0m\n\u001b[0;31m    elif origin == 'Ireland':\u001b[0m\n\u001b[0m    ^\u001b[0m\n\u001b[0;31mSyntaxError\u001b[0m\u001b[0;31m:\u001b[0m invalid syntax\n"
     ]
    }
   ],
   "source": [
    "irish_farmers = []\n",
    "for occupation, origin in zip(ages, occupations, birth_places):\n",
    "    if occupation == 'Farmer' origin == 'Ireland':\n",
    "            irish_farmers.append(\"Irish Farmers\")\n",
    "irish_farmers"
   ]
  },
  {
   "cell_type": "code",
   "execution_count": null,
   "id": "2270be41-62d5-479f-a0d0-931714681139",
   "metadata": {},
   "outputs": [],
   "source": []
  }
 ],
 "metadata": {
  "kernelspec": {
   "display_name": "Python [conda env:base] *",
   "language": "python",
   "name": "conda-base-py"
  },
  "language_info": {
   "codemirror_mode": {
    "name": "ipython",
    "version": 3
   },
   "file_extension": ".py",
   "mimetype": "text/x-python",
   "name": "python",
   "nbconvert_exporter": "python",
   "pygments_lexer": "ipython3",
   "version": "3.12.7"
  }
 },
 "nbformat": 4,
 "nbformat_minor": 5
}
