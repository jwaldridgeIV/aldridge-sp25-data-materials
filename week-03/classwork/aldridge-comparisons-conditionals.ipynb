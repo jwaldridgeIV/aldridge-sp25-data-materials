{
 "cells": [
  {
   "cell_type": "code",
   "execution_count": 1,
   "id": "e528e2cd-5af0-4b3c-9e86-2d029641980f",
   "metadata": {},
   "outputs": [],
   "source": [
    "# Boston population data\n",
    "boston_1850 = 136881\n",
    "boston_1860 = 177840\n",
    "boston_1870 = 250526\n",
    "\n",
    "# New York population data\n",
    "ny_1850 = 515547\n",
    "ny_1860 = 813669\n",
    "ny_1870 = 942292\n",
    "\n",
    "# Philadelphia population data\n",
    "phil_1850 = 121376\n",
    "phil_1860 = 565529\n",
    "phil_1870 = 674022\n"
   ]
  },
  {
   "cell_type": "code",
   "execution_count": 3,
   "id": "cfc82cfe-8e1a-4e5e-aec9-950fd4d40a65",
   "metadata": {},
   "outputs": [
    {
     "data": {
      "text/plain": [
       "True"
      ]
     },
     "execution_count": 3,
     "metadata": {},
     "output_type": "execute_result"
    }
   ],
   "source": [
    "boston_1870 > 200000"
   ]
  },
  {
   "cell_type": "code",
   "execution_count": 5,
   "id": "2630eb8f-43dc-4ace-9591-cf0a80938861",
   "metadata": {},
   "outputs": [
    {
     "name": "stdout",
     "output_type": "stream",
     "text": [
      "new york was larger in 1860\n"
     ]
    }
   ],
   "source": [
    "if ny_1860 > phil_1860:\n",
    "    print(\"new york was larger in 1860\")\n",
    "else: print(\"philidalphia was larger in 1860\")"
   ]
  },
  {
   "cell_type": "code",
   "execution_count": 16,
   "id": "1f0598e4-2150-40a9-9715-8cf036310be3",
   "metadata": {},
   "outputs": [
    {
     "name": "stdout",
     "output_type": "stream",
     "text": [
      "philly did not double in size from 1850 to 60\n"
     ]
    }
   ],
   "source": [
    "if (phil_1850 + phil_1850) > phil_1860:\n",
    "    print(\"philly doubled in size from 1850 to 60\")\n",
    "else: print(\"philly did not double in size from 1850 to 60\")"
   ]
  },
  {
   "cell_type": "code",
   "execution_count": 18,
   "id": "0515508e-2b98-48f3-ae19-7edc98c6d499",
   "metadata": {},
   "outputs": [
    {
     "name": "stdout",
     "output_type": "stream",
     "text": [
      "philly at least doubled in size\n"
     ]
    }
   ],
   "source": [
    "philly_pop_change = phil_1860 - phil_1850\n",
    "if philly_pop_change > phil_1850:\n",
    "    print(\"philly at least doubled in size\")\n",
    "else:\n",
    "    print(\"philly did not double in size\")"
   ]
  },
  {
   "cell_type": "code",
   "execution_count": 20,
   "id": "2f93de29-6624-437e-8917-69cf89bde543",
   "metadata": {},
   "outputs": [],
   "source": [
    "####\n"
   ]
  },
  {
   "cell_type": "markdown",
   "id": "6cab3c30-454c-4e78-8968-967c6d03bcb3",
   "metadata": {},
   "source": [
    "Calculating population growth"
   ]
  },
  {
   "cell_type": "code",
   "execution_count": 23,
   "id": "8a8afade-3239-4a65-a772-ab20dfd4791e",
   "metadata": {},
   "outputs": [],
   "source": [
    "# Calculate population growth\n",
    "boston_growth = boston_1870 - boston_1850\n",
    "ny_growth = ny_1870 - ny_1850\n",
    "phil_growth = phil_1870 - phil_1850\n"
   ]
  },
  {
   "cell_type": "code",
   "execution_count": 25,
   "id": "56c722ba-3dbd-4afe-b075-d1f31650bf77",
   "metadata": {},
   "outputs": [
    {
     "name": "stdout",
     "output_type": "stream",
     "text": [
      "phil has the highest growth\n"
     ]
    }
   ],
   "source": [
    "if boston_growth > ny_growth and boston_growth > phil_growth:\n",
    "    print(\"boston has highest growth\")\n",
    "elif ny_growth > boston_growth and ny_growth > phil_growth:\n",
    "    print(\"new york has the highest growth\")\n",
    "elif phil_growth > ny_growth and phil_growth > boston_growth:\n",
    "    print(\"phil has the highest growth\")\n",
    "else:\n",
    "    print(\"they all didnt grow at all\")"
   ]
  },
  {
   "cell_type": "code",
   "execution_count": 29,
   "id": "9fd6e0ad-a807-402c-b1fc-8bcabac757af",
   "metadata": {},
   "outputs": [
    {
     "name": "stdout",
     "output_type": "stream",
     "text": [
      "the condition was met\n"
     ]
    }
   ],
   "source": [
    "if boston_1870 > 200000 and (boston_1870 - boston_1850) > 100000:\n",
    "    print(\"the condition was met\")\n",
    "else:\n",
    "    print(\"the condition was not met\")"
   ]
  },
  {
   "cell_type": "code",
   "execution_count": null,
   "id": "4b992987-0653-4ae9-9d2e-295ccad64015",
   "metadata": {},
   "outputs": [],
   "source": []
  }
 ],
 "metadata": {
  "kernelspec": {
   "display_name": "Python [conda env:base] *",
   "language": "python",
   "name": "conda-base-py"
  },
  "language_info": {
   "codemirror_mode": {
    "name": "ipython",
    "version": 3
   },
   "file_extension": ".py",
   "mimetype": "text/x-python",
   "name": "python",
   "nbconvert_exporter": "python",
   "pygments_lexer": "ipython3",
   "version": "3.12.7"
  }
 },
 "nbformat": 4,
 "nbformat_minor": 5
}
