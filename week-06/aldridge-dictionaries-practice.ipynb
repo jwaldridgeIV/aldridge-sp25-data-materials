{
 "cells": [
  {
   "cell_type": "code",
   "execution_count": 4,
   "id": "4dc6295d-b722-4f65-b6c5-69171cb2b3d2",
   "metadata": {},
   "outputs": [
    {
     "name": "stdout",
     "output_type": "stream",
     "text": [
      "{'Patrick Murphy': 45, 'Mary Kelly': 23, 'Thomas Williams': 16, 'Elizabeth Smith': 34}\n"
     ]
    }
   ],
   "source": [
    "# Create a dictionary mapping names to ages\n",
    "ages_dict = {\n",
    "    \"Patrick Murphy\": 45,\n",
    "    \"Mary Kelly\": 23,\n",
    "    \"Thomas Williams\": 16,\n",
    "    \"Elizabeth Smith\": 34\n",
    "}\n",
    "\n",
    "# Print the entire dictionary\n",
    "print(ages_dict)\n"
   ]
  },
  {
   "cell_type": "code",
   "execution_count": 6,
   "id": "1a231ab8-b380-4110-b8f7-bc8fce6d7b1b",
   "metadata": {},
   "outputs": [
    {
     "name": "stdout",
     "output_type": "stream",
     "text": [
      "Patrick Murphy is 45 years old.\n"
     ]
    }
   ],
   "source": [
    "# Get Patrick's age using his name as the key\n",
    "patricks_age = ages_dict[\"Patrick Murphy\"]\n",
    "print(f\"Patrick Murphy is {patricks_age} years old.\")\n"
   ]
  },
  {
   "cell_type": "code",
   "execution_count": 8,
   "id": "ec228d26-9a4f-4481-aca3-13cc66acaf5e",
   "metadata": {},
   "outputs": [
    {
     "name": "stdout",
     "output_type": "stream",
     "text": [
      "{'Taylor Swift': 35, 'Olivia Rodrigo': 22, 'Tom Hanks': 68, 'Meryl Streep': 75}\n",
      "Taylor Swift is 35 years old.\n"
     ]
    }
   ],
   "source": [
    "celebrity_ages = {\n",
    "    \"Taylor Swift\": 35,\n",
    "    \"Olivia Rodrigo\": 22,\n",
    "    \"Tom Hanks\": 68,\n",
    "    \"Meryl Streep\": 75\n",
    "}\n",
    "\n",
    "print(celebrity_ages)\n",
    "\n",
    "taylor_age = celebrity_ages[\"Taylor Swift\"]\n",
    "print(f\"Taylor Swift is {taylor_age} years old.\")"
   ]
  },
  {
   "cell_type": "code",
   "execution_count": 10,
   "id": "89f9f2ad-6d2f-4c59-b67e-0dd525ec9623",
   "metadata": {},
   "outputs": [
    {
     "name": "stdout",
     "output_type": "stream",
     "text": [
      "{'Patrick Murphy': 45, 'Mary Kelly': 23, 'Thomas Williams': 16, 'Elizabeth Smith': 34, 'Michael Sullivan': 64}\n"
     ]
    }
   ],
   "source": [
    "# Add a new person to our ages dictionary\n",
    "ages_dict[\"Michael Sullivan\"] = 64\n",
    "print(ages_dict)\n"
   ]
  },
  {
   "cell_type": "code",
   "execution_count": 12,
   "id": "d6ae7044-8875-4a27-9326-060878f8efdd",
   "metadata": {},
   "outputs": [
    {
     "name": "stdout",
     "output_type": "stream",
     "text": [
      "Updated age for Thomas: 17\n"
     ]
    }
   ],
   "source": [
    "# Change someone's age\n",
    "ages_dict[\"Thomas Williams\"] = 17  # Thomas just had a birthday!\n",
    "print(f\"Updated age for Thomas: {ages_dict['Thomas Williams']}\")\n"
   ]
  },
  {
   "cell_type": "code",
   "execution_count": 14,
   "id": "3e3439a4-c5c3-4628-87b0-23c2b3ab3d92",
   "metadata": {},
   "outputs": [
    {
     "name": "stdout",
     "output_type": "stream",
     "text": [
      "{'Taylor Swift': 35, 'Olivia Rodrigo': 23, 'Tom Hanks': 68, 'Meryl Streep': 75, 'Chet Hanks': 34}\n"
     ]
    }
   ],
   "source": [
    "# adding to celebrity dictionary\n",
    "\n",
    "celebrity_ages[\"Chet Hanks\"] = 34\n",
    "celebrity_ages[\"Olivia Rodrigo\"] = 23\n",
    "print(celebrity_ages)"
   ]
  },
  {
   "cell_type": "code",
   "execution_count": 16,
   "id": "5fbcd21d-d150-4819-b0aa-0ffd09de639c",
   "metadata": {},
   "outputs": [
    {
     "name": "stdout",
     "output_type": "stream",
     "text": [
      "Patrick Murphy is 45 years old.\n",
      "Mary Kelly is 23 years old.\n",
      "Thomas Williams is 17 years old.\n",
      "Elizabeth Smith is 34 years old.\n",
      "Michael Sullivan is 64 years old.\n",
      "Patrick Murphy is 45 years old.\n",
      "Mary Kelly is 23 years old.\n",
      "Thomas Williams is 17 years old.\n",
      "Elizabeth Smith is 34 years old.\n",
      "Michael Sullivan is 64 years old.\n"
     ]
    }
   ],
   "source": [
    "# Loop through all names and ages\n",
    "for name in ages_dict:\n",
    "    print(f\"{name} is {ages_dict[name]} years old.\")\n",
    "\n",
    "# A more elegant way using the .items() method\n",
    "for name, age in ages_dict.items():\n",
    "    print(f\"{name} is {age} years old.\")\n"
   ]
  },
  {
   "cell_type": "code",
   "execution_count": 18,
   "id": "ac07c149-79cb-49e6-aedd-3857b4f6130f",
   "metadata": {},
   "outputs": [
    {
     "name": "stdout",
     "output_type": "stream",
     "text": [
      "Patrick Murphy is 45 years old.\n",
      "Elizabeth Smith is 34 years old.\n",
      "Michael Sullivan is 64 years old.\n"
     ]
    }
   ],
   "source": [
    "# Find all people over 30\n",
    "for name, age in ages_dict.items():\n",
    "    if age > 30:\n",
    "        print(f\"{name} is {age} years old.\")\n"
   ]
  },
  {
   "cell_type": "code",
   "execution_count": 20,
   "id": "9f1d0f5b-ef1e-4ecf-a1df-74ca97d7d0e7",
   "metadata": {},
   "outputs": [
    {
     "name": "stdout",
     "output_type": "stream",
     "text": [
      "Taylor Swift is a millenial and is 35 years old.\n",
      "Olivia Rodrigo is in Gen Z and is 23 years old.\n",
      "Tom Hanks is a boomer and is 68 years old.\n",
      "Meryl Streep is a boomer and is 75 years old.\n",
      "Chet Hanks is a millenial and is 34 years old.\n"
     ]
    }
   ],
   "source": [
    "# celebrity age gropuing \n",
    "for name, age in celebrity_ages.items():\n",
    "    if age < 29:\n",
    "        print(f\"{name} is in Gen Z and is {age} years old.\")\n",
    "    elif age > 60:\n",
    "        print(f\"{name} is a boomer and is {age} years old.\")\n",
    "    else:\n",
    "        print(f\"{name} is a millenial and is {age} years old.\")\n"
   ]
  },
  {
   "cell_type": "code",
   "execution_count": 22,
   "id": "7b3f01c6-fb05-40aa-85d6-860027898f3c",
   "metadata": {},
   "outputs": [],
   "source": [
    "# Create one dictionary with all information about each person\n",
    "census_data = {\n",
    "    \"Patrick Murphy\": {\n",
    "        \"age\": 45,\n",
    "        \"birth_place\": \"Ireland\",\n",
    "        \"occupation\": \"farmer\"\n",
    "    },\n",
    "    \"Mary Kelly\": {\n",
    "        \"age\": 23,\n",
    "        \"birth_place\": \"Ireland\",\n",
    "        \"occupation\": \"servant\"\n",
    "    },\n",
    "    \"Thomas Williams\": {\n",
    "        \"age\": 17,\n",
    "        \"birth_place\": \"Wales\",\n",
    "        \"occupation\": \"laborer\"\n",
    "    },\n",
    "    \"Elizabeth Smith\": {\n",
    "    \"age\": 34,\n",
    "    \"birth_place\": \"England\",\n",
    "    \"occupation\": \"servant\"\n",
    "    }\n",
    "}\n"
   ]
  },
  {
   "cell_type": "code",
   "execution_count": 24,
   "id": "8bc0d48d-b99f-418e-904b-d27ce6744f53",
   "metadata": {},
   "outputs": [
    {
     "name": "stdout",
     "output_type": "stream",
     "text": [
      "{'age': 45, 'birth_place': 'Ireland', 'occupation': 'farmer'}\n",
      "farmer\n"
     ]
    }
   ],
   "source": [
    "# Access data from our nested dictionary\n",
    "print(census_data[\"Patrick Murphy\"])\n",
    "print(census_data[\"Patrick Murphy\"][\"occupation\"])\n"
   ]
  },
  {
   "cell_type": "code",
   "execution_count": 26,
   "id": "3b0fa826-8ae4-4efc-9f06-9b314ed2dec8",
   "metadata": {},
   "outputs": [
    {
     "name": "stdout",
     "output_type": "stream",
     "text": [
      "23\n"
     ]
    }
   ],
   "source": [
    "print(census_data[\"Mary Kelly\"][\"age\"])"
   ]
  },
  {
   "cell_type": "code",
   "execution_count": 28,
   "id": "8ab3a399-cd85-4d0c-af9f-2bfc2e12f619",
   "metadata": {},
   "outputs": [],
   "source": [
    "# Here are our lists of data\n",
    "names = [\"Patrick Murphy\", \"Mary Kelly\", \"Thomas Williams\", \"Elizabeth Smith\", \"Michael Sullivan\",\n",
    "         \"Anna Schmidt\", \"William Johnson\", \"James O'Connor\", \"Bridget Walsh\", \"Robert Campbell\",\n",
    "         \"Catherine Miller\", \"George Thompson\", \"Sean O'Neill\", \"David Jones\", \"Kevin Burke\",\n",
    "         \"Margaret Wilson\", \"Donald Fraser\", \"Eileen Doyle\", \"Frieda Weber\", \"Timothy Ryan\"]\n",
    "\n",
    "ages = [45, 23, 16, 34, 64, 28, 42, 31, 27, 38, 17, 52, 29, 44, 33, 15, 61, 36, 18, 41]\n",
    "\n",
    "birth_places = ['Ireland', 'Ireland', 'New York', 'England', 'Ireland', 'Germany', 'New York',\n",
    "               'Ireland', 'Ireland', 'Scotland', 'Ireland', 'England', 'Ireland', 'Wales',\n",
    "               'Ireland', 'Ireland', 'Scotland', 'Ireland', 'Germany', 'Ireland']\n",
    "\n",
    "occupations = ['farmer', 'servant', 'laborer', 'merchant', 'farmer', 'servant', 'teacher', 'farmer',\n",
    "              'laborer', 'merchant', 'servant', 'farmer', 'laborer', 'blacksmith', 'carpenter',\n",
    "              'servant', 'farmer', 'weaver', 'servant', 'carpenter']\n"
   ]
  },
  {
   "cell_type": "code",
   "execution_count": 30,
   "id": "7d931663-4379-4344-b503-b92262f7901d",
   "metadata": {},
   "outputs": [],
   "source": [
    "# Start with an empty dictionary\n",
    "auto_census = {}\n",
    "\n",
    "# Loop through the lists to create our nested dictionary\n",
    "for i in range(len(names)):\n",
    "    # Extract the data for this person and temporarily put the data into a series of variables\n",
    "    name = names[i]\n",
    "    age = ages[i]\n",
    "    birth_place = birth_places[i]\n",
    "    occupation = occupations[i]\n",
    "\n",
    "    # Create the nested dictionary for this person\n",
    "    auto_census[name] = {\n",
    "        \"age\": age,\n",
    "        \"birth_place\": birth_place,\n",
    "        \"occupation\": occupation\n",
    "    }\n"
   ]
  },
  {
   "cell_type": "code",
   "execution_count": 32,
   "id": "74dd069d-da52-4b25-8af6-41055750e2ef",
   "metadata": {},
   "outputs": [
    {
     "name": "stdout",
     "output_type": "stream",
     "text": [
      "{'age': 28, 'birth_place': 'Germany', 'occupation': 'servant'}\n",
      "Scotland\n"
     ]
    }
   ],
   "source": [
    "#Print out the entry for Anna Schmidt\n",
    "print(auto_census[\"Anna Schmidt\"])\n",
    "\n",
    "#Print out the birth place of Donald Fraser\n",
    "print(auto_census[\"Donald Fraser\"][\"birth_place\"])\n"
   ]
  },
  {
   "cell_type": "code",
   "execution_count": 34,
   "id": "3e1d8d8f-f050-49ae-a3e2-ce61c476d5a4",
   "metadata": {},
   "outputs": [],
   "source": [
    "# Celebrity information\n",
    "names = [\"Taylor Swift\", \"Olivia Rodrigo\", \"Tom Hanks\", \"Meryl Streep\"]\n",
    "ages = [35, 22, 68, 75]\n",
    "birth_places = [\"Pennsylvania\", \"California\", \"California\", \"New Jersey\"]\n",
    "occupations = [\"singer\", \"singer\", \"actor\", \"actor\"]\n"
   ]
  },
  {
   "cell_type": "code",
   "execution_count": 50,
   "id": "1c14b29c-2afc-475f-bd01-59a850dd1139",
   "metadata": {},
   "outputs": [],
   "source": [
    "# Start with an empty dictionary\n",
    "celebrity_info = {}\n",
    "\n",
    "# Loop through the lists to create our nested dictionary\n",
    "for i in range(len(names)):\n",
    "    # Extract the data for this person and temporarily put the data into a series of variables\n",
    "    name = names[i]\n",
    "    age = ages[i]\n",
    "    birth_place = birth_places[i]\n",
    "    occupation = occupations[i]\n",
    "\n",
    "    # Create the nested dictionary for this person\n",
    "    celebrity_info[name] = {\n",
    "        \"age\": age,\n",
    "        \"birth_place\": birth_place,\n",
    "        \"occupation\": occupation\n",
    "    }\n"
   ]
  },
  {
   "cell_type": "code",
   "execution_count": 52,
   "id": "9910bb67-ece3-4c99-9fa7-80f6409d8748",
   "metadata": {},
   "outputs": [
    {
     "name": "stdout",
     "output_type": "stream",
     "text": [
      "{'age': 35, 'birth_place': 'Pennsylvania', 'occupation': 'singer'}\n"
     ]
    }
   ],
   "source": [
    "print(celebrity_info[\"Taylor Swift\"])"
   ]
  },
  {
   "cell_type": "code",
   "execution_count": 56,
   "id": "da7c7582-a1d5-4bef-bb76-fdd80f4659c2",
   "metadata": {},
   "outputs": [
    {
     "name": "stdout",
     "output_type": "stream",
     "text": [
      "Taylor Swift's occupation is not an actor.\n",
      "Olivia Rodrigo's occupation is not an actor.\n",
      "Tom Hanks's occupation is not an actor.\n",
      "Meryl Streep's occupation is not an actor.\n"
     ]
    }
   ],
   "source": [
    "for name, occupation in celebrity_info.items():\n",
    "    if occupations == \"actor\":\n",
    "        print(f\"{name}'s occupation is an actor!\")\n",
    "    else:\n",
    "        print(f\"{name}'s occupation is not an actor.\")"
   ]
  },
  {
   "cell_type": "code",
   "execution_count": null,
   "id": "204c2080-3aa8-4a5d-bccc-dae8d42acbfe",
   "metadata": {},
   "outputs": [],
   "source": []
  }
 ],
 "metadata": {
  "kernelspec": {
   "display_name": "Python [conda env:base] *",
   "language": "python",
   "name": "conda-base-py"
  },
  "language_info": {
   "codemirror_mode": {
    "name": "ipython",
    "version": 3
   },
   "file_extension": ".py",
   "mimetype": "text/x-python",
   "name": "python",
   "nbconvert_exporter": "python",
   "pygments_lexer": "ipython3",
   "version": "3.12.7"
  }
 },
 "nbformat": 4,
 "nbformat_minor": 5
}
