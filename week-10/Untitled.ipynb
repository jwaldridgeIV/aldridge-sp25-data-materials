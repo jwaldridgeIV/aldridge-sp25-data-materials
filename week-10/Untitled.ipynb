{
 "cells": [
  {
   "cell_type": "markdown",
   "id": "d20ad04f-7e3f-410d-a365-943a13f51d68",
   "metadata": {},
   "source": [
    "Different types of payments over the last week:\n",
    "\n",
    "- cash at work\n",
    "- credit card at work\n",
    "- credit card at costco\n",
    "- online using credit card (amazon)\n",
    "- golf course pos system\n",
    "- filed taxes and got refund\n",
    "- friend venmoed me for paying for his golf\n",
    "- pay off credit card bill\n",
    "- autopay for internet bill/apple cloud service/patreon\n",
    "- "
   ]
  },
  {
   "cell_type": "code",
   "execution_count": null,
   "id": "543783f7-edcb-4b96-8c60-c19310baf739",
   "metadata": {},
   "outputs": [],
   "source": []
  }
 ],
 "metadata": {
  "kernelspec": {
   "display_name": "Python [conda env:base] *",
   "language": "python",
   "name": "conda-base-py"
  },
  "language_info": {
   "codemirror_mode": {
    "name": "ipython",
    "version": 3
   },
   "file_extension": ".py",
   "mimetype": "text/x-python",
   "name": "python",
   "nbconvert_exporter": "python",
   "pygments_lexer": "ipython3",
   "version": "3.12.7"
  }
 },
 "nbformat": 4,
 "nbformat_minor": 5
}
